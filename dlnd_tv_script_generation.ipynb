{
 "cells": [
  {
   "cell_type": "markdown",
   "metadata": {
    "deletable": true,
    "editable": true
   },
   "source": [
    "# TV Script Generation\n",
    "\n",
    "Generating Simpson Tv Script using RNNs.\n",
    "[Simpsons dataset](https://www.kaggle.com/wcukierski/the-simpsons-by-the-data)\n"
   ]
  },
  {
   "cell_type": "code",
   "execution_count": 1,
   "metadata": {
    "collapsed": false,
    "deletable": true,
    "editable": true
   },
   "outputs": [],
   "source": [
    "import helper\n",
    "\n",
    "datafile = './data/simpsons/moes_tavern_lines.txt'\n",
    "data = helper.load_data(datafile)\n",
    "\n",
    "text = data[81:]"
   ]
  },
  {
   "cell_type": "markdown",
   "metadata": {
    "deletable": true,
    "editable": true
   },
   "source": [
    "Playing around to view different parts of the data\n"
   ]
  },
  {
   "cell_type": "code",
   "execution_count": 2,
   "metadata": {
    "collapsed": false,
    "deletable": true,
    "editable": true
   },
   "outputs": [
    {
     "name": "stdout",
     "output_type": "stream",
     "text": [
      "Dataset Stats\n",
      "Roughly the number of unique words: 11492\n",
      "Number of scenes: 262\n",
      "Average number of sentences in each scene: 15.248091603053435\n",
      "Number of lines: 4257\n",
      "Average number of words in each line: 11.50434578341555\n",
      "\n",
      "The sentences 0 to 10:\n",
      "Moe_Szyslak: (INTO PHONE) Moe's Tavern. Where the elite meet to drink.\n",
      "Bart_Simpson: Eh, yeah, hello, is Mike there? Last name, Rotch.\n",
      "Moe_Szyslak: (INTO PHONE) Hold on, I'll check. (TO BARFLIES) Mike Rotch. Mike Rotch. Hey, has anybody seen Mike Rotch, lately?\n",
      "Moe_Szyslak: (INTO PHONE) Listen you little puke. One of these days I'm gonna catch you, and I'm gonna carve my name on your back with an ice pick.\n",
      "Moe_Szyslak: What's the matter Homer? You're not your normal effervescent self.\n",
      "Homer_Simpson: I got my problems, Moe. Give me another one.\n",
      "Moe_Szyslak: Homer, hey, you should not drink to forget your problems.\n",
      "Barney_Gumble: Yeah, you should only drink to enhance your social skills.\n",
      "\n",
      "\n"
     ]
    }
   ],
   "source": [
    "import numpy as np\n",
    "\n",
    "view_sentence_range = (0,10)\n",
    "import numpy as np\n",
    "\n",
    "print('Dataset Stats')\n",
    "print('Roughly the number of unique words: {}'.format(len({word: None for word in text.split()})))\n",
    "scenes = text.split('\\n\\n')\n",
    "print('Number of scenes: {}'.format(len(scenes)))\n",
    "sentence_count_scene = [scene.count('\\n') for scene in scenes]\n",
    "print('Average number of sentences in each scene: {}'.format(np.average(sentence_count_scene)))\n",
    "\n",
    "sentences = [sentence for scene in scenes for sentence in scene.split('\\n')]\n",
    "print('Number of lines: {}'.format(len(sentences)))\n",
    "word_count_sentence = [len(sentence.split()) for sentence in sentences]\n",
    "print('Average number of words in each line: {}'.format(np.average(word_count_sentence)))\n",
    "\n",
    "print()\n",
    "print('The sentences {} to {}:'.format(*view_sentence_range))\n",
    "print('\\n'.join(text.split('\\n')[view_sentence_range[0]:view_sentence_range[1]]))"
   ]
  },
  {
   "cell_type": "code",
   "execution_count": 288,
   "metadata": {
    "collapsed": false,
    "deletable": true,
    "editable": true
   },
   "outputs": [
    {
     "name": "stdout",
     "output_type": "stream",
     "text": [
      "Tests Passed\n"
     ]
    }
   ],
   "source": [
    "import numpy as np\n",
    "import problem_unittests as tests\n",
    "from collections import Counter\n",
    "\n",
    "#creating two dicts {word:idx}, {idx:word}\n",
    "\n",
    "def create_lookup_tables(text):\n",
    "    #word_set = set(text)\n",
    "    #word_count = Counter(text)\n",
    "    \n",
    "    #counts = Counter(text)\n",
    "    #words = sorted(counts, key=counts.get, reverse=True)\n",
    "    words = set(text)\n",
    "    word_2_int = {word: i for i, word in enumerate(words)}\n",
    "    int_2_word = {i: word for i, word in enumerate(words)}\n",
    "    #word_2_int = {word: i for i, word in enumerate(word_count.keys(), 0)}\n",
    "    #int_2_word = {i:word for word, i in word_2_int.items()}\n",
    "\n",
    "    return word_2_int, int_2_word    \n",
    "        \n",
    "tests.test_create_lookup_tables(create_lookup_tables)"
   ]
  },
  {
   "cell_type": "code",
   "execution_count": 289,
   "metadata": {
    "collapsed": false,
    "deletable": true,
    "editable": true
   },
   "outputs": [
    {
     "name": "stdout",
     "output_type": "stream",
     "text": [
      "Tests Passed\n"
     ]
    }
   ],
   "source": [
    "#tokenizing punctuation \n",
    "\n",
    "def token_lookup():\n",
    "    punct_dict = {    \n",
    "    '.': '||Period||',\n",
    "    ',': '||Comma||',\n",
    "    '\"': '||Quotation_Mark||', \n",
    "    ';': '||Semicolon||',\n",
    "    '!': '||Exclamation_mark||', \n",
    "    '?': '||Question_mark||', \n",
    "    '(': '||Left_Parentheses||',   \n",
    "    ')': '||Right_Parentheses||',   \n",
    "    '--': '||Dash||',  \n",
    "    '\\n': '||Return||'\n",
    "    }       \n",
    "    #text_list = list(text)\n",
    "    #for chars in text_list:\n",
    "    #    if chars in punct_list:\n",
    "    #        text_list[chars] = punct_list[chars]\n",
    "    return punct_dict        \n",
    "tests.test_tokenize(token_lookup)"
   ]
  },
  {
   "cell_type": "code",
   "execution_count": 290,
   "metadata": {
    "collapsed": false,
    "deletable": true,
    "editable": true
   },
   "outputs": [],
   "source": [
    "helper.preprocess_and_save_data(datafile, token_lookup, create_lookup_tables)"
   ]
  },
  {
   "cell_type": "markdown",
   "metadata": {
    "deletable": true,
    "editable": true
   },
   "source": [
    "\n",
    "### Checkpoint"
   ]
  },
  {
   "cell_type": "code",
   "execution_count": 291,
   "metadata": {
    "collapsed": true,
    "deletable": true,
    "editable": true
   },
   "outputs": [],
   "source": [
    "import helper\n",
    "import numpy as np\n",
    "import problem_unittests as tests\n",
    "\n",
    "int_text, word_2_int, int_2_word, puct_dict = helper.load_preprocess()"
   ]
  },
  {
   "cell_type": "code",
   "execution_count": 292,
   "metadata": {
    "collapsed": false,
    "deletable": true,
    "editable": true
   },
   "outputs": [
    {
     "name": "stdout",
     "output_type": "stream",
     "text": [
      "TensorFlow Version: 1.0.0\n"
     ]
    },
    {
     "name": "stderr",
     "output_type": "stream",
     "text": [
      "/home/snalessandro/anaconda3/lib/python3.6/site-packages/ipykernel_launcher.py:11: UserWarning: No GPU found. Please use a GPU to train your neural network.\n",
      "  # This is added back by InteractiveShellApp.init_path()\n"
     ]
    }
   ],
   "source": [
    "from distutils.version import LooseVersion\n",
    "import warnings\n",
    "import tensorflow as tf\n",
    "\n",
    "# Check TensorFlow Version\n",
    "assert LooseVersion(tf.__version__) >= LooseVersion('1.0'), 'Please use TensorFlow version 1.0 or newer'\n",
    "print('TensorFlow Version: {}'.format(tf.__version__))\n",
    "\n",
    "# Check for a GPU\n",
    "if not tf.test.gpu_device_name():\n",
    "    warnings.warn('No GPU found. Please use a GPU to train your neural network.')\n",
    "else:\n",
    "    print('Default GPU Device: {}'.format(tf.test.gpu_device_name()))"
   ]
  },
  {
   "cell_type": "code",
   "execution_count": 293,
   "metadata": {
    "collapsed": false,
    "deletable": true,
    "editable": true
   },
   "outputs": [
    {
     "name": "stdout",
     "output_type": "stream",
     "text": [
      "Tests Passed\n"
     ]
    }
   ],
   "source": [
    "#creating placeholders for inputs, targets, learning rate.\n",
    "def get_inputs():\n",
    "    inputs = tf.placeholder(tf.int32, [None, None], name='input')\n",
    "    targets = tf.placeholder(tf.int32, [None, None], name='targets')\n",
    "    learning_rate = tf.placeholder(tf.float32, name='learning_rate')\n",
    "    return inputs, targets, learning_rate\n",
    "\n",
    "tests.test_get_inputs(get_inputs)"
   ]
  },
  {
   "cell_type": "code",
   "execution_count": 294,
   "metadata": {
    "collapsed": false,
    "deletable": true,
    "editable": true
   },
   "outputs": [
    {
     "name": "stdout",
     "output_type": "stream",
     "text": [
      "Tests Passed\n"
     ]
    }
   ],
   "source": [
    "#creating lstm network\n",
    "\n",
    "def get_init_cell(batch_size, rnn_size):\n",
    "\n",
    "    lstm = tf.contrib.rnn.BasicLSTMCell(rnn_size)\n",
    "    #drop = tf.contrib.rnn.DropoutWrapper(lstm, output_keep_prob=0.8)\n",
    "    # Stack up multiple LSTM layers, for deep learning\n",
    "    cell = tf.contrib.rnn.MultiRNNCell([lstm]*1) \n",
    "    state = cell.zero_state(batch_size, tf.float32)\n",
    "    initial_state = tf.identity(state, name='initial_state')\n",
    "\n",
    "    return (cell, initial_state)\n",
    "\n",
    "tests.test_get_init_cell(get_init_cell)"
   ]
  },
  {
   "cell_type": "markdown",
   "metadata": {
    "collapsed": true,
    "deletable": true,
    "editable": true
   },
   "source": [
    "### Word Embedding"
   ]
  },
  {
   "cell_type": "code",
   "execution_count": 295,
   "metadata": {
    "collapsed": false,
    "deletable": true,
    "editable": true
   },
   "outputs": [
    {
     "name": "stdout",
     "output_type": "stream",
     "text": [
      "Tests Passed\n"
     ]
    }
   ],
   "source": [
    "#creating embedding for input_data (a list of words as integers come in and get transformed into their vector representations). \n",
    "#like matrix multiplication but with a loockup table in order to save computation. Embedding of size (vocab_size x embed_dim)\n",
    "\n",
    "def get_embed(input_data, vocab_size, embed_dim):\n",
    "    embedding_weights = tf.Variable(tf.truncated_normal((vocab_size, embed_dim), stddev=0.1))\n",
    "    embed = tf.nn.embedding_lookup(embedding_weights, input_data)\n",
    "    \n",
    "    return embed\n",
    "\n",
    "\n",
    "tests.test_get_embed(get_embed)"
   ]
  },
  {
   "cell_type": "code",
   "execution_count": 296,
   "metadata": {
    "collapsed": false,
    "deletable": true,
    "editable": true
   },
   "outputs": [
    {
     "name": "stdout",
     "output_type": "stream",
     "text": [
      "Tests Passed\n"
     ]
    }
   ],
   "source": [
    "#Building the RNN\n",
    "def build_rnn(cell, inputs):\n",
    "    outputs, final_state = tf.nn.dynamic_rnn(cell, inputs, dtype=tf.float32)\n",
    "    final_state = tf.identity(final_state, name='final_state')\n",
    "    \n",
    "    return (outputs, final_state)\n",
    "\n",
    "tests.test_build_rnn(build_rnn)"
   ]
  },
  {
   "cell_type": "code",
   "execution_count": 297,
   "metadata": {
    "collapsed": false,
    "deletable": true,
    "editable": true
   },
   "outputs": [
    {
     "name": "stdout",
     "output_type": "stream",
     "text": [
      "Tests Passed\n"
     ]
    }
   ],
   "source": [
    "#Building the Neural Network\n",
    "def build_nn(cell, rnn_size, input_data, vocab_size, embed_dim):\n",
    "    embed = get_embed(input_data, vocab_size, embed_dim)\n",
    "    outputs, final_state = build_rnn(cell, embed)\n",
    "    #reshaping output of rnn to connect it with a fully connected layer (necessary to stack an fc layer without using tf.contrib.layers.fully_connected)\n",
    "    #outputs_ = tf.reshape(outputs, (-1, [rnn_size]))\n",
    "    #fc_weights = tf.Variable(tf.random_normal((rnn_size, vocab_size), stddev= 0.1))\n",
    "    #biases = tf.Variable(tf.zeros(vocab_size))\n",
    "    #logits = tf.nn.relu(tf.add(tf.matmul(outputs_, fc_weights), biases))\n",
    "    logits = tf.contrib.layers.fully_connected(outputs, vocab_size, activation_fn=tf.nn.relu)\n",
    "    #logits = tf.reshape(logits, input_data.shape.as_list() + [vocab_size])\n",
    "    return logits, final_state  \n",
    "\n",
    "\n",
    "tests.test_build_nn(build_nn)"
   ]
  },
  {
   "cell_type": "code",
   "execution_count": 298,
   "metadata": {
    "collapsed": false,
    "deletable": true,
    "editable": true
   },
   "outputs": [
    {
     "name": "stdout",
     "output_type": "stream",
     "text": [
      "Tests Passed\n"
     ]
    }
   ],
   "source": [
    "#Making batches of input and target\n",
    "\n",
    "def get_batches(int_text, batch_size, seq_length):\n",
    "\n",
    "    n_batches = len(int_text)//(batch_size * seq_length)\n",
    "    input_text = int_text[:n_batches * batch_size *seq_length]\n",
    "    target_text = input_text[1:] + input_text[:1]\n",
    "    inputs = np.array(input_text)\n",
    "    targets = np.array(target_text)\n",
    "    input_batches = np.split(inputs.reshape(batch_size, -1), n_batches, 1)\n",
    "    target_batches = np.split(targets.reshape(batch_size, -1), n_batches, 1)\n",
    "    \n",
    "    return np.array(list(zip(input_batches, target_batches)))\n",
    "\n",
    "\n",
    "tests.test_get_batches(get_batches)"
   ]
  },
  {
   "cell_type": "markdown",
   "metadata": {
    "deletable": true,
    "editable": true
   },
   "source": [
    "### Tuning Hyperparameters"
   ]
  },
  {
   "cell_type": "code",
   "execution_count": 319,
   "metadata": {
    "collapsed": true,
    "deletable": true,
    "editable": true
   },
   "outputs": [],
   "source": [
    "num_epochs = 75\n",
    "rnn_size = 256\n",
    "batch_size = 128\n",
    "embed_dim = 300\n",
    "seq_length = 20\n",
    "learning_rate = 0.01\n",
    "# Show stats for every n number of batches\n",
    "show_every_n_batches = 5\n",
    "\n",
    "save_dir = './save'\n"
   ]
  },
  {
   "cell_type": "markdown",
   "metadata": {
    "deletable": true,
    "editable": true
   },
   "source": [
    "### Building the Graph"
   ]
  },
  {
   "cell_type": "code",
   "execution_count": 320,
   "metadata": {
    "collapsed": false,
    "deletable": true,
    "editable": true
   },
   "outputs": [],
   "source": [
    "from tensorflow.contrib import seq2seq\n",
    "\n",
    "train_graph = tf.Graph()\n",
    "with tf.device('/gpu:0'):\n",
    "    with train_graph.as_default():\n",
    "        vocab_size = len(int_2_word)\n",
    "        input_text, targets, lr = get_inputs()\n",
    "        input_data_shape = tf.shape(input_text)\n",
    "        cell, initial_state = get_init_cell(input_data_shape[0], rnn_size)\n",
    "        logits, final_state = build_nn(cell, rnn_size, input_text, vocab_size, embed_dim)\n",
    "    \n",
    "    #softmax layer after fully_connected\n",
    "        probs = tf.nn.softmax(logits, name = 'probs')\n",
    "    \n",
    "    \n",
    "    #Loss function\n",
    "        cost = seq2seq.sequence_loss(logits, targets, tf.ones([input_data_shape[0], input_data_shape[1]]))\n",
    "    \n",
    "        optimizer = tf.train.AdamOptimizer(lr)\n",
    "    \n",
    "    #Gradient clipping\n",
    "        gradients = optimizer.compute_gradients(cost)\n",
    "        capped_gradients =[(tf.clip_by_value(grad, -1., 1.), var) for grad, var in gradients if grad is not None]\n",
    "        train_op = optimizer.apply_gradients(capped_gradients)"
   ]
  },
  {
   "cell_type": "markdown",
   "metadata": {
    "deletable": true,
    "editable": true
   },
   "source": [
    "### Training the Network "
   ]
  },
  {
   "cell_type": "code",
   "execution_count": 321,
   "metadata": {
    "collapsed": false,
    "deletable": true,
    "editable": true
   },
   "outputs": [
    {
     "name": "stdout",
     "output_type": "stream",
     "text": [
      "Epoch   0 Batch    0/26   train_loss = 8.821\n",
      "Epoch   0 Batch    5/26   train_loss = 6.451\n",
      "Epoch   0 Batch   10/26   train_loss = 6.330\n",
      "Epoch   0 Batch   15/26   train_loss = 6.127\n",
      "Epoch   0 Batch   20/26   train_loss = 6.121\n",
      "Epoch   0 Batch   25/26   train_loss = 6.005\n",
      "Epoch   1 Batch    4/26   train_loss = 5.905\n",
      "Epoch   1 Batch    9/26   train_loss = 5.887\n",
      "Epoch   1 Batch   14/26   train_loss = 5.704\n",
      "Epoch   1 Batch   19/26   train_loss = 5.701\n",
      "Epoch   1 Batch   24/26   train_loss = 5.702\n",
      "Epoch   2 Batch    3/26   train_loss = 5.567\n",
      "Epoch   2 Batch    8/26   train_loss = 5.470\n",
      "Epoch   2 Batch   13/26   train_loss = 5.446\n",
      "Epoch   2 Batch   18/26   train_loss = 5.396\n",
      "Epoch   2 Batch   23/26   train_loss = 5.580\n",
      "Epoch   3 Batch    2/26   train_loss = 5.322\n",
      "Epoch   3 Batch    7/26   train_loss = 5.433\n",
      "Epoch   3 Batch   12/26   train_loss = 5.532\n",
      "Epoch   3 Batch   17/26   train_loss = 5.341\n",
      "Epoch   3 Batch   22/26   train_loss = 5.214\n",
      "Epoch   4 Batch    1/26   train_loss = 5.313\n",
      "Epoch   4 Batch    6/26   train_loss = 5.315\n",
      "Epoch   4 Batch   11/26   train_loss = 5.227\n",
      "Epoch   4 Batch   16/26   train_loss = 5.237\n",
      "Epoch   4 Batch   21/26   train_loss = 5.123\n",
      "Epoch   5 Batch    0/26   train_loss = 5.126\n",
      "Epoch   5 Batch    5/26   train_loss = 5.116\n",
      "Epoch   5 Batch   10/26   train_loss = 5.159\n",
      "Epoch   5 Batch   15/26   train_loss = 4.971\n",
      "Epoch   5 Batch   20/26   train_loss = 5.128\n",
      "Epoch   5 Batch   25/26   train_loss = 5.105\n",
      "Epoch   6 Batch    4/26   train_loss = 5.123\n",
      "Epoch   6 Batch    9/26   train_loss = 5.170\n",
      "Epoch   6 Batch   14/26   train_loss = 5.044\n",
      "Epoch   6 Batch   19/26   train_loss = 5.120\n",
      "Epoch   6 Batch   24/26   train_loss = 5.088\n",
      "Epoch   7 Batch    3/26   train_loss = 5.059\n",
      "Epoch   7 Batch    8/26   train_loss = 5.008\n",
      "Epoch   7 Batch   13/26   train_loss = 4.984\n",
      "Epoch   7 Batch   18/26   train_loss = 4.967\n",
      "Epoch   7 Batch   23/26   train_loss = 5.141\n",
      "Epoch   8 Batch    2/26   train_loss = 4.972\n",
      "Epoch   8 Batch    7/26   train_loss = 5.081\n",
      "Epoch   8 Batch   12/26   train_loss = 5.179\n",
      "Epoch   8 Batch   17/26   train_loss = 5.027\n",
      "Epoch   8 Batch   22/26   train_loss = 4.925\n",
      "Epoch   9 Batch    1/26   train_loss = 5.014\n",
      "Epoch   9 Batch    6/26   train_loss = 5.034\n",
      "Epoch   9 Batch   11/26   train_loss = 4.974\n",
      "Epoch   9 Batch   16/26   train_loss = 4.958\n",
      "Epoch   9 Batch   21/26   train_loss = 4.871\n",
      "Epoch  10 Batch    0/26   train_loss = 4.864\n",
      "Epoch  10 Batch    5/26   train_loss = 4.911\n",
      "Epoch  10 Batch   10/26   train_loss = 4.915\n",
      "Epoch  10 Batch   15/26   train_loss = 4.747\n",
      "Epoch  10 Batch   20/26   train_loss = 4.904\n",
      "Epoch  10 Batch   25/26   train_loss = 4.901\n",
      "Epoch  11 Batch    4/26   train_loss = 4.893\n",
      "Epoch  11 Batch    9/26   train_loss = 4.952\n",
      "Epoch  11 Batch   14/26   train_loss = 4.842\n",
      "Epoch  11 Batch   19/26   train_loss = 4.933\n",
      "Epoch  11 Batch   24/26   train_loss = 4.903\n",
      "Epoch  12 Batch    3/26   train_loss = 4.879\n",
      "Epoch  12 Batch    8/26   train_loss = 4.843\n",
      "Epoch  12 Batch   13/26   train_loss = 4.777\n",
      "Epoch  12 Batch   18/26   train_loss = 4.804\n",
      "Epoch  12 Batch   23/26   train_loss = 4.950\n",
      "Epoch  13 Batch    2/26   train_loss = 4.778\n",
      "Epoch  13 Batch    7/26   train_loss = 4.920\n",
      "Epoch  13 Batch   12/26   train_loss = 5.010\n",
      "Epoch  13 Batch   17/26   train_loss = 4.877\n",
      "Epoch  13 Batch   22/26   train_loss = 4.753\n",
      "Epoch  14 Batch    1/26   train_loss = 4.846\n",
      "Epoch  14 Batch    6/26   train_loss = 4.855\n",
      "Epoch  14 Batch   11/26   train_loss = 4.821\n",
      "Epoch  14 Batch   16/26   train_loss = 4.792\n",
      "Epoch  14 Batch   21/26   train_loss = 4.703\n",
      "Epoch  15 Batch    0/26   train_loss = 4.666\n",
      "Epoch  15 Batch    5/26   train_loss = 4.715\n",
      "Epoch  15 Batch   10/26   train_loss = 4.746\n",
      "Epoch  15 Batch   15/26   train_loss = 4.596\n",
      "Epoch  15 Batch   20/26   train_loss = 4.721\n",
      "Epoch  15 Batch   25/26   train_loss = 4.722\n",
      "Epoch  16 Batch    4/26   train_loss = 4.725\n",
      "Epoch  16 Batch    9/26   train_loss = 4.772\n",
      "Epoch  16 Batch   14/26   train_loss = 4.675\n",
      "Epoch  16 Batch   19/26   train_loss = 4.760\n",
      "Epoch  16 Batch   24/26   train_loss = 4.727\n",
      "Epoch  17 Batch    3/26   train_loss = 4.709\n",
      "Epoch  17 Batch    8/26   train_loss = 4.673\n",
      "Epoch  17 Batch   13/26   train_loss = 4.631\n",
      "Epoch  17 Batch   18/26   train_loss = 4.646\n",
      "Epoch  17 Batch   23/26   train_loss = 4.772\n",
      "Epoch  18 Batch    2/26   train_loss = 4.639\n",
      "Epoch  18 Batch    7/26   train_loss = 4.741\n",
      "Epoch  18 Batch   12/26   train_loss = 4.854\n",
      "Epoch  18 Batch   17/26   train_loss = 4.726\n",
      "Epoch  18 Batch   22/26   train_loss = 4.614\n",
      "Epoch  19 Batch    1/26   train_loss = 4.708\n",
      "Epoch  19 Batch    6/26   train_loss = 4.721\n",
      "Epoch  19 Batch   11/26   train_loss = 4.679\n",
      "Epoch  19 Batch   16/26   train_loss = 4.616\n",
      "Epoch  19 Batch   21/26   train_loss = 4.573\n",
      "Epoch  20 Batch    0/26   train_loss = 4.510\n",
      "Epoch  20 Batch    5/26   train_loss = 4.578\n",
      "Epoch  20 Batch   10/26   train_loss = 4.625\n",
      "Epoch  20 Batch   15/26   train_loss = 4.451\n",
      "Epoch  20 Batch   20/26   train_loss = 4.583\n",
      "Epoch  20 Batch   25/26   train_loss = 4.569\n",
      "Epoch  21 Batch    4/26   train_loss = 4.574\n",
      "Epoch  21 Batch    9/26   train_loss = 4.650\n",
      "Epoch  21 Batch   14/26   train_loss = 4.495\n",
      "Epoch  21 Batch   19/26   train_loss = 4.610\n",
      "Epoch  21 Batch   24/26   train_loss = 4.587\n",
      "Epoch  22 Batch    3/26   train_loss = 4.551\n",
      "Epoch  22 Batch    8/26   train_loss = 4.527\n",
      "Epoch  22 Batch   13/26   train_loss = 4.441\n",
      "Epoch  22 Batch   18/26   train_loss = 4.468\n",
      "Epoch  22 Batch   23/26   train_loss = 4.592\n",
      "Epoch  23 Batch    2/26   train_loss = 4.468\n",
      "Epoch  23 Batch    7/26   train_loss = 4.568\n",
      "Epoch  23 Batch   12/26   train_loss = 4.662\n",
      "Epoch  23 Batch   17/26   train_loss = 4.544\n",
      "Epoch  23 Batch   22/26   train_loss = 4.435\n",
      "Epoch  24 Batch    1/26   train_loss = 4.537\n",
      "Epoch  24 Batch    6/26   train_loss = 4.534\n",
      "Epoch  24 Batch   11/26   train_loss = 4.488\n",
      "Epoch  24 Batch   16/26   train_loss = 4.434\n",
      "Epoch  24 Batch   21/26   train_loss = 4.402\n",
      "Epoch  25 Batch    0/26   train_loss = 4.312\n",
      "Epoch  25 Batch    5/26   train_loss = 4.392\n",
      "Epoch  25 Batch   10/26   train_loss = 4.441\n",
      "Epoch  25 Batch   15/26   train_loss = 4.271\n",
      "Epoch  25 Batch   20/26   train_loss = 4.428\n",
      "Epoch  25 Batch   25/26   train_loss = 4.401\n",
      "Epoch  26 Batch    4/26   train_loss = 4.384\n",
      "Epoch  26 Batch    9/26   train_loss = 4.448\n",
      "Epoch  26 Batch   14/26   train_loss = 4.319\n",
      "Epoch  26 Batch   19/26   train_loss = 4.433\n",
      "Epoch  26 Batch   24/26   train_loss = 4.408\n",
      "Epoch  27 Batch    3/26   train_loss = 4.374\n",
      "Epoch  27 Batch    8/26   train_loss = 4.341\n",
      "Epoch  27 Batch   13/26   train_loss = 4.236\n",
      "Epoch  27 Batch   18/26   train_loss = 4.270\n",
      "Epoch  27 Batch   23/26   train_loss = 4.374\n",
      "Epoch  28 Batch    2/26   train_loss = 4.277\n",
      "Epoch  28 Batch    7/26   train_loss = 4.338\n",
      "Epoch  28 Batch   12/26   train_loss = 4.457\n",
      "Epoch  28 Batch   17/26   train_loss = 4.334\n",
      "Epoch  28 Batch   22/26   train_loss = 4.236\n",
      "Epoch  29 Batch    1/26   train_loss = 4.329\n",
      "Epoch  29 Batch    6/26   train_loss = 4.308\n",
      "Epoch  29 Batch   11/26   train_loss = 4.281\n",
      "Epoch  29 Batch   16/26   train_loss = 4.241\n",
      "Epoch  29 Batch   21/26   train_loss = 4.204\n",
      "Epoch  30 Batch    0/26   train_loss = 4.076\n",
      "Epoch  30 Batch    5/26   train_loss = 4.179\n",
      "Epoch  30 Batch   10/26   train_loss = 4.237\n",
      "Epoch  30 Batch   15/26   train_loss = 4.059\n",
      "Epoch  30 Batch   20/26   train_loss = 4.218\n",
      "Epoch  30 Batch   25/26   train_loss = 4.184\n",
      "Epoch  31 Batch    4/26   train_loss = 4.153\n",
      "Epoch  31 Batch    9/26   train_loss = 4.232\n",
      "Epoch  31 Batch   14/26   train_loss = 4.085\n",
      "Epoch  31 Batch   19/26   train_loss = 4.212\n",
      "Epoch  31 Batch   24/26   train_loss = 4.196\n",
      "Epoch  32 Batch    3/26   train_loss = 4.149\n",
      "Epoch  32 Batch    8/26   train_loss = 4.115\n",
      "Epoch  32 Batch   13/26   train_loss = 4.030\n",
      "Epoch  32 Batch   18/26   train_loss = 4.061\n",
      "Epoch  32 Batch   23/26   train_loss = 4.166\n",
      "Epoch  33 Batch    2/26   train_loss = 4.063\n",
      "Epoch  33 Batch    7/26   train_loss = 4.112\n",
      "Epoch  33 Batch   12/26   train_loss = 4.226\n",
      "Epoch  33 Batch   17/26   train_loss = 4.156\n",
      "Epoch  33 Batch   22/26   train_loss = 4.030\n",
      "Epoch  34 Batch    1/26   train_loss = 4.110\n",
      "Epoch  34 Batch    6/26   train_loss = 4.101\n",
      "Epoch  34 Batch   11/26   train_loss = 4.080\n",
      "Epoch  34 Batch   16/26   train_loss = 4.027\n",
      "Epoch  34 Batch   21/26   train_loss = 4.007\n",
      "Epoch  35 Batch    0/26   train_loss = 3.881\n",
      "Epoch  35 Batch    5/26   train_loss = 3.972\n",
      "Epoch  35 Batch   10/26   train_loss = 4.040\n",
      "Epoch  35 Batch   15/26   train_loss = 3.868\n",
      "Epoch  35 Batch   20/26   train_loss = 4.018\n",
      "Epoch  35 Batch   25/26   train_loss = 3.977\n",
      "Epoch  36 Batch    4/26   train_loss = 3.988\n",
      "Epoch  36 Batch    9/26   train_loss = 4.033\n",
      "Epoch  36 Batch   14/26   train_loss = 3.882\n",
      "Epoch  36 Batch   19/26   train_loss = 4.018\n",
      "Epoch  36 Batch   24/26   train_loss = 4.012\n",
      "Epoch  37 Batch    3/26   train_loss = 3.964\n",
      "Epoch  37 Batch    8/26   train_loss = 3.935\n",
      "Epoch  37 Batch   13/26   train_loss = 3.816\n",
      "Epoch  37 Batch   18/26   train_loss = 3.870\n",
      "Epoch  37 Batch   23/26   train_loss = 3.958\n",
      "Epoch  38 Batch    2/26   train_loss = 3.871\n",
      "Epoch  38 Batch    7/26   train_loss = 3.915\n",
      "Epoch  38 Batch   12/26   train_loss = 4.025\n",
      "Epoch  38 Batch   17/26   train_loss = 3.957\n",
      "Epoch  38 Batch   22/26   train_loss = 3.853\n",
      "Epoch  39 Batch    1/26   train_loss = 3.927\n",
      "Epoch  39 Batch    6/26   train_loss = 3.904\n",
      "Epoch  39 Batch   11/26   train_loss = 3.883\n",
      "Epoch  39 Batch   16/26   train_loss = 3.812\n",
      "Epoch  39 Batch   21/26   train_loss = 3.799\n",
      "Epoch  40 Batch    0/26   train_loss = 3.647\n",
      "Epoch  40 Batch    5/26   train_loss = 3.765\n",
      "Epoch  40 Batch   10/26   train_loss = 3.860\n",
      "Epoch  40 Batch   15/26   train_loss = 3.658\n",
      "Epoch  40 Batch   20/26   train_loss = 3.800\n",
      "Epoch  40 Batch   25/26   train_loss = 3.772\n",
      "Epoch  41 Batch    4/26   train_loss = 3.766\n",
      "Epoch  41 Batch    9/26   train_loss = 3.842\n",
      "Epoch  41 Batch   14/26   train_loss = 3.682\n",
      "Epoch  41 Batch   19/26   train_loss = 3.814\n",
      "Epoch  41 Batch   24/26   train_loss = 3.815\n",
      "Epoch  42 Batch    3/26   train_loss = 3.755\n",
      "Epoch  42 Batch    8/26   train_loss = 3.738\n",
      "Epoch  42 Batch   13/26   train_loss = 3.604\n",
      "Epoch  42 Batch   18/26   train_loss = 3.661\n",
      "Epoch  42 Batch   23/26   train_loss = 3.734\n",
      "Epoch  43 Batch    2/26   train_loss = 3.671\n",
      "Epoch  43 Batch    7/26   train_loss = 3.706\n",
      "Epoch  43 Batch   12/26   train_loss = 3.830\n",
      "Epoch  43 Batch   17/26   train_loss = 3.767\n",
      "Epoch  43 Batch   22/26   train_loss = 3.653\n",
      "Epoch  44 Batch    1/26   train_loss = 3.715\n",
      "Epoch  44 Batch    6/26   train_loss = 3.706\n",
      "Epoch  44 Batch   11/26   train_loss = 3.703\n",
      "Epoch  44 Batch   16/26   train_loss = 3.590\n",
      "Epoch  44 Batch   21/26   train_loss = 3.627\n",
      "Epoch  45 Batch    0/26   train_loss = 3.445\n",
      "Epoch  45 Batch    5/26   train_loss = 3.567\n",
      "Epoch  45 Batch   10/26   train_loss = 3.685\n",
      "Epoch  45 Batch   15/26   train_loss = 3.465\n",
      "Epoch  45 Batch   20/26   train_loss = 3.616\n",
      "Epoch  45 Batch   25/26   train_loss = 3.573\n",
      "Epoch  46 Batch    4/26   train_loss = 3.605\n",
      "Epoch  46 Batch    9/26   train_loss = 3.677\n",
      "Epoch  46 Batch   14/26   train_loss = 3.486\n",
      "Epoch  46 Batch   19/26   train_loss = 3.639\n",
      "Epoch  46 Batch   24/26   train_loss = 3.648\n",
      "Epoch  47 Batch    3/26   train_loss = 3.576\n",
      "Epoch  47 Batch    8/26   train_loss = 3.580\n",
      "Epoch  47 Batch   13/26   train_loss = 3.433\n",
      "Epoch  47 Batch   18/26   train_loss = 3.483\n",
      "Epoch  47 Batch   23/26   train_loss = 3.569\n",
      "Epoch  48 Batch    2/26   train_loss = 3.492\n",
      "Epoch  48 Batch    7/26   train_loss = 3.535\n",
      "Epoch  48 Batch   12/26   train_loss = 3.664\n",
      "Epoch  48 Batch   17/26   train_loss = 3.605\n",
      "Epoch  48 Batch   22/26   train_loss = 3.502\n",
      "Epoch  49 Batch    1/26   train_loss = 3.566\n",
      "Epoch  49 Batch    6/26   train_loss = 3.553\n",
      "Epoch  49 Batch   11/26   train_loss = 3.523\n",
      "Epoch  49 Batch   16/26   train_loss = 3.431\n",
      "Epoch  49 Batch   21/26   train_loss = 3.472\n",
      "Epoch  50 Batch    0/26   train_loss = 3.277\n",
      "Epoch  50 Batch    5/26   train_loss = 3.407\n",
      "Epoch  50 Batch   10/26   train_loss = 3.535\n",
      "Epoch  50 Batch   15/26   train_loss = 3.325\n",
      "Epoch  50 Batch   20/26   train_loss = 3.482\n",
      "Epoch  50 Batch   25/26   train_loss = 3.413\n",
      "Epoch  51 Batch    4/26   train_loss = 3.457\n",
      "Epoch  51 Batch    9/26   train_loss = 3.511\n",
      "Epoch  51 Batch   14/26   train_loss = 3.347\n",
      "Epoch  51 Batch   19/26   train_loss = 3.508\n",
      "Epoch  51 Batch   24/26   train_loss = 3.525\n",
      "Epoch  52 Batch    3/26   train_loss = 3.466\n",
      "Epoch  52 Batch    8/26   train_loss = 3.452\n",
      "Epoch  52 Batch   13/26   train_loss = 3.304\n",
      "Epoch  52 Batch   18/26   train_loss = 3.343\n",
      "Epoch  52 Batch   23/26   train_loss = 3.467\n",
      "Epoch  53 Batch    2/26   train_loss = 3.360\n",
      "Epoch  53 Batch    7/26   train_loss = 3.417\n",
      "Epoch  53 Batch   12/26   train_loss = 3.546\n",
      "Epoch  53 Batch   17/26   train_loss = 3.490\n",
      "Epoch  53 Batch   22/26   train_loss = 3.395\n",
      "Epoch  54 Batch    1/26   train_loss = 3.444\n",
      "Epoch  54 Batch    6/26   train_loss = 3.430\n",
      "Epoch  54 Batch   11/26   train_loss = 3.420\n",
      "Epoch  54 Batch   16/26   train_loss = 3.296\n",
      "Epoch  54 Batch   21/26   train_loss = 3.346\n",
      "Epoch  55 Batch    0/26   train_loss = 3.168\n",
      "Epoch  55 Batch    5/26   train_loss = 3.266\n",
      "Epoch  55 Batch   10/26   train_loss = 3.409\n",
      "Epoch  55 Batch   15/26   train_loss = 3.183\n",
      "Epoch  55 Batch   20/26   train_loss = 3.358\n",
      "Epoch  55 Batch   25/26   train_loss = 3.294\n",
      "Epoch  56 Batch    4/26   train_loss = 3.332\n",
      "Epoch  56 Batch    9/26   train_loss = 3.395\n",
      "Epoch  56 Batch   14/26   train_loss = 3.217\n",
      "Epoch  56 Batch   19/26   train_loss = 3.365\n",
      "Epoch  56 Batch   24/26   train_loss = 3.402\n",
      "Epoch  57 Batch    3/26   train_loss = 3.350\n",
      "Epoch  57 Batch    8/26   train_loss = 3.310\n",
      "Epoch  57 Batch   13/26   train_loss = 3.179\n",
      "Epoch  57 Batch   18/26   train_loss = 3.227\n",
      "Epoch  57 Batch   23/26   train_loss = 3.354\n",
      "Epoch  58 Batch    2/26   train_loss = 3.247\n",
      "Epoch  58 Batch    7/26   train_loss = 3.326\n",
      "Epoch  58 Batch   12/26   train_loss = 3.426\n",
      "Epoch  58 Batch   17/26   train_loss = 3.371\n",
      "Epoch  58 Batch   22/26   train_loss = 3.292\n",
      "Epoch  59 Batch    1/26   train_loss = 3.343\n",
      "Epoch  59 Batch    6/26   train_loss = 3.348\n",
      "Epoch  59 Batch   11/26   train_loss = 3.314\n",
      "Epoch  59 Batch   16/26   train_loss = 3.192\n",
      "Epoch  59 Batch   21/26   train_loss = 3.253\n",
      "Epoch  60 Batch    0/26   train_loss = 3.075\n",
      "Epoch  60 Batch    5/26   train_loss = 3.192\n",
      "Epoch  60 Batch   10/26   train_loss = 3.325\n",
      "Epoch  60 Batch   15/26   train_loss = 3.095\n",
      "Epoch  60 Batch   20/26   train_loss = 3.280\n",
      "Epoch  60 Batch   25/26   train_loss = 3.217\n",
      "Epoch  61 Batch    4/26   train_loss = 3.257\n",
      "Epoch  61 Batch    9/26   train_loss = 3.319\n",
      "Epoch  61 Batch   14/26   train_loss = 3.144\n",
      "Epoch  61 Batch   19/26   train_loss = 3.305\n",
      "Epoch  61 Batch   24/26   train_loss = 3.330\n",
      "Epoch  62 Batch    3/26   train_loss = 3.259\n",
      "Epoch  62 Batch    8/26   train_loss = 3.260\n",
      "Epoch  62 Batch   13/26   train_loss = 3.110\n",
      "Epoch  62 Batch   18/26   train_loss = 3.150\n",
      "Epoch  62 Batch   23/26   train_loss = 3.289\n",
      "Epoch  63 Batch    2/26   train_loss = 3.152\n",
      "Epoch  63 Batch    7/26   train_loss = 3.252\n",
      "Epoch  63 Batch   12/26   train_loss = 3.363\n",
      "Epoch  63 Batch   17/26   train_loss = 3.317\n",
      "Epoch  63 Batch   22/26   train_loss = 3.217\n",
      "Epoch  64 Batch    1/26   train_loss = 3.271\n",
      "Epoch  64 Batch    6/26   train_loss = 3.278\n",
      "Epoch  64 Batch   11/26   train_loss = 3.250\n",
      "Epoch  64 Batch   16/26   train_loss = 3.120\n",
      "Epoch  64 Batch   21/26   train_loss = 3.180\n",
      "Epoch  65 Batch    0/26   train_loss = 2.996\n",
      "Epoch  65 Batch    5/26   train_loss = 3.103\n",
      "Epoch  65 Batch   10/26   train_loss = 3.250\n",
      "Epoch  65 Batch   15/26   train_loss = 3.026\n",
      "Epoch  65 Batch   20/26   train_loss = 3.219\n",
      "Epoch  65 Batch   25/26   train_loss = 3.140\n",
      "Epoch  66 Batch    4/26   train_loss = 3.198\n",
      "Epoch  66 Batch    9/26   train_loss = 3.242\n",
      "Epoch  66 Batch   14/26   train_loss = 3.091\n",
      "Epoch  66 Batch   19/26   train_loss = 3.230\n",
      "Epoch  66 Batch   24/26   train_loss = 3.272\n",
      "Epoch  67 Batch    3/26   train_loss = 3.191\n",
      "Epoch  67 Batch    8/26   train_loss = 3.191\n",
      "Epoch  67 Batch   13/26   train_loss = 3.047\n",
      "Epoch  67 Batch   18/26   train_loss = 3.091\n",
      "Epoch  67 Batch   23/26   train_loss = 3.225\n",
      "Epoch  68 Batch    2/26   train_loss = 3.081\n",
      "Epoch  68 Batch    7/26   train_loss = 3.185\n",
      "Epoch  68 Batch   12/26   train_loss = 3.297\n",
      "Epoch  68 Batch   17/26   train_loss = 3.223\n",
      "Epoch  68 Batch   22/26   train_loss = 3.146\n",
      "Epoch  69 Batch    1/26   train_loss = 3.200\n",
      "Epoch  69 Batch    6/26   train_loss = 3.200\n",
      "Epoch  69 Batch   11/26   train_loss = 3.173\n",
      "Epoch  69 Batch   16/26   train_loss = 3.058\n",
      "Epoch  69 Batch   21/26   train_loss = 3.097\n",
      "Epoch  70 Batch    0/26   train_loss = 2.915\n",
      "Epoch  70 Batch    5/26   train_loss = 3.031\n",
      "Epoch  70 Batch   10/26   train_loss = 3.161\n",
      "Epoch  70 Batch   15/26   train_loss = 2.943\n",
      "Epoch  70 Batch   20/26   train_loss = 3.135\n",
      "Epoch  70 Batch   25/26   train_loss = 3.057\n",
      "Epoch  71 Batch    4/26   train_loss = 3.106\n",
      "Epoch  71 Batch    9/26   train_loss = 3.173\n",
      "Epoch  71 Batch   14/26   train_loss = 3.001\n",
      "Epoch  71 Batch   19/26   train_loss = 3.152\n",
      "Epoch  71 Batch   24/26   train_loss = 3.182\n",
      "Epoch  72 Batch    3/26   train_loss = 3.110\n",
      "Epoch  72 Batch    8/26   train_loss = 3.100\n",
      "Epoch  72 Batch   13/26   train_loss = 2.967\n",
      "Epoch  72 Batch   18/26   train_loss = 3.011\n",
      "Epoch  72 Batch   23/26   train_loss = 3.159\n",
      "Epoch  73 Batch    2/26   train_loss = 2.993\n",
      "Epoch  73 Batch    7/26   train_loss = 3.106\n",
      "Epoch  73 Batch   12/26   train_loss = 3.224\n",
      "Epoch  73 Batch   17/26   train_loss = 3.149\n",
      "Epoch  73 Batch   22/26   train_loss = 3.072\n",
      "Epoch  74 Batch    1/26   train_loss = 3.130\n",
      "Epoch  74 Batch    6/26   train_loss = 3.134\n",
      "Epoch  74 Batch   11/26   train_loss = 3.096\n",
      "Epoch  74 Batch   16/26   train_loss = 2.981\n",
      "Epoch  74 Batch   21/26   train_loss = 3.029\n",
      "Model Trained and Saved\n"
     ]
    }
   ],
   "source": [
    "batches = get_batches(int_text, batch_size, seq_length)\n",
    "\n",
    "with tf.Session(graph=train_graph, config=tf.ConfigProto(log_device_placement=True)) as sess:\n",
    "    sess.run(tf.global_variables_initializer())\n",
    "    \n",
    "    for epochs in range(num_epochs):\n",
    "        state = sess.run(initial_state, {input_text:batches[0][0]})\n",
    "        for n, (x,y) in enumerate(batches):\n",
    "            feed = {input_text:x, targets:y, lr:learning_rate, initial_state:state}\n",
    "            train_loss, state, _= sess.run([cost, final_state, train_op], feed)\n",
    "                \n",
    "            # Show every <show_every_n_batches> batches\n",
    "            if (epochs * len(batches) + n) % show_every_n_batches == 0:\n",
    "                print('Epoch {:>3} Batch {:>4}/{}   train_loss = {:.3f}'.format(\n",
    "                    epochs,\n",
    "                    n,\n",
    "                    len(batches),\n",
    "                    train_loss))\n",
    "\n",
    "    # Save Model\n",
    "    saver = tf.train.Saver()\n",
    "    saver.save(sess, save_dir)\n",
    "    print('Model Trained and Saved')    "
   ]
  },
  {
   "cell_type": "markdown",
   "metadata": {
    "deletable": true,
    "editable": true
   },
   "source": [
    "### Saving Parameters to generate a new TV Script\n"
   ]
  },
  {
   "cell_type": "code",
   "execution_count": 322,
   "metadata": {
    "collapsed": false,
    "deletable": true,
    "editable": true
   },
   "outputs": [],
   "source": [
    "helper.save_params((seq_length, save_dir))"
   ]
  },
  {
   "cell_type": "markdown",
   "metadata": {
    "deletable": true,
    "editable": true
   },
   "source": [
    "### Checkpoint"
   ]
  },
  {
   "cell_type": "code",
   "execution_count": 323,
   "metadata": {
    "collapsed": false,
    "deletable": true,
    "editable": true
   },
   "outputs": [],
   "source": [
    "import tensorflow as tf\n",
    "import numpy as np\n",
    "import helper\n",
    "import problem_unittests as tests\n",
    "\n",
    "_, vocab_to_int, int_to_vocab, token_dict = helper.load_preprocess()\n",
    "seq_length, load_dir = helper.load_params()"
   ]
  },
  {
   "cell_type": "markdown",
   "metadata": {
    "deletable": true,
    "editable": true
   },
   "source": [
    "### Getting tensors with get_tensor_by_name() from loaded_graph"
   ]
  },
  {
   "cell_type": "code",
   "execution_count": 324,
   "metadata": {
    "collapsed": false,
    "deletable": true,
    "editable": true
   },
   "outputs": [
    {
     "name": "stdout",
     "output_type": "stream",
     "text": [
      "Tests Passed\n"
     ]
    }
   ],
   "source": [
    "def get_tensors(loaded_graph):\n",
    "    input_T = loaded_graph.get_tensor_by_name(\"input:0\")\n",
    "    initial_state_T = loaded_graph.get_tensor_by_name(\"initial_state:0\")\n",
    "    final_state_T = loaded_graph.get_tensor_by_name(\"final_state:0\")\n",
    "    probs_T = loaded_graph.get_tensor_by_name(\"probs:0\")\n",
    "    \n",
    "    return input_T, initial_state_T, final_state_T, probs_T\n",
    "\n",
    "tests.test_get_tensors(get_tensors)"
   ]
  },
  {
   "cell_type": "markdown",
   "metadata": {
    "collapsed": true,
    "deletable": true,
    "editable": true
   },
   "source": [
    "### Selection next word with pick_word()"
   ]
  },
  {
   "cell_type": "code",
   "execution_count": 325,
   "metadata": {
    "collapsed": false,
    "scrolled": true
   },
   "outputs": [
    {
     "name": "stdout",
     "output_type": "stream",
     "text": [
      "Tests Passed\n"
     ]
    }
   ],
   "source": [
    "#Selecting next word with an argmax between probabilities (that is the result of the softmax layer)\n",
    "def pick_word(probabilities, int_2_word):\n",
    "    x_pos = np.argmax(probabilities, axis=0)\n",
    "    next_word = int_2_word[x_pos]\n",
    "    return next_word\n",
    "    \n",
    "tests.test_pick_word(pick_word)"
   ]
  },
  {
   "cell_type": "markdown",
   "metadata": {},
   "source": [
    "### Generating TV Scripts"
   ]
  },
  {
   "cell_type": "code",
   "execution_count": 326,
   "metadata": {
    "collapsed": false
   },
   "outputs": [
    {
     "name": "stdout",
     "output_type": "stream",
     "text": [
      "moe_szyslak:(into a little more\") moe! you know, i know a thing in the back of my life.\n",
      "barney_gumble: hey, homer. you know what i'm not the bar?\n",
      "lenny_leonard: i can too!\n",
      "barney_gumble: hey, you did me a beer?\n",
      "homer_simpson:(with the man) god!\n",
      "homer_simpson:(with the man) god!\n",
      "homer_simpson:(with the man) god!\n",
      "homer_simpson:(with the man) god!\n",
      "lenny_leonard:(too) and, uh, i ain't got that this is the only one from you and me\"\n",
      "\n",
      "\n",
      "homer_simpson:(with the man) huh?\n",
      "homer_simpson: oh moe, you don't tell me more!\n",
      "homer_simpson:(with the man) huh?\n",
      "lenny_leonard:(\" the springfield a\"\n",
      "homer_simpson: who was my life?\n",
      "lenny_leonard: huh? well, i just know what about you, you don't tell me more and i'm gonna have to go, and i get it.\n",
      "homer_simpson:(with the man) huh?\n",
      "homer_simpson: oh\n"
     ]
    }
   ],
   "source": [
    "gen_length = 200\n",
    "prime_word = 'moe_szyslak'\n",
    "loaded_graph = tf.Graph()\n",
    "with tf.Session(graph=loaded_graph) as sess:\n",
    "    loader = tf.train.import_meta_graph(load_dir + '.meta')\n",
    "    loader.restore(sess, load_dir)\n",
    "    \n",
    "    #loading tensors\n",
    "    input_text, initial_state, final_state, probs = get_tensors(loaded_graph)\n",
    "    gen_sentences = [prime_word + ':']\n",
    "    prev_state = sess.run(initial_state, {input_text:np.array([[1]])})\n",
    "    for n in range(gen_length):\n",
    "        dyn_input = [[word_2_int[word] for word in gen_sentences[-gen_length:]]]\n",
    "        dyn_seq_length = len(dyn_input[0])\n",
    "        \n",
    "        #getting probabilities\n",
    "        probabilities, prev_state = sess.run([probs, final_state], {input_text:dyn_input, initial_state:prev_state})\n",
    "        \n",
    "        next_word= pick_word(probabilities[dyn_seq_length -1], int_2_word)\n",
    "        \n",
    "        gen_sentences.append(next_word)\n",
    "        \n",
    "    tv_script = ' '.join(gen_sentences)\n",
    "    for key, token in token_dict.items():\n",
    "        ending = ' ' if key in ['\\n', '(', '\"'] else ''\n",
    "        tv_script = tv_script.replace(' ' + token.lower(), key)\n",
    "    tv_script = tv_script.replace('\\n ', '\\n')\n",
    "    tv_script = tv_script.replace('( ', '(')\n",
    "        \n",
    "    print(tv_script)\n",
    "        \n",
    "        "
   ]
  },
  {
   "cell_type": "markdown",
   "metadata": {},
   "source": [
    "### If TV Script is non-sensical, the model needs to be trained on more data [another dataset](https://www.kaggle.com/wcukierski/the-simpsons-by-the-data)"
   ]
  },
  {
   "cell_type": "code",
   "execution_count": null,
   "metadata": {
    "collapsed": true
   },
   "outputs": [],
   "source": []
  }
 ],
 "metadata": {
  "kernelspec": {
   "display_name": "Python 3",
   "language": "python",
   "name": "python3"
  },
  "language_info": {
   "codemirror_mode": {
    "name": "ipython",
    "version": 3
   },
   "file_extension": ".py",
   "mimetype": "text/x-python",
   "name": "python",
   "nbconvert_exporter": "python",
   "pygments_lexer": "ipython3",
   "version": "3.6.1"
  }
 },
 "nbformat": 4,
 "nbformat_minor": 2
}
